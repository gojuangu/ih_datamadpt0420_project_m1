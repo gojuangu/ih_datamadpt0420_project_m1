{
 "cells": [
  {
   "cell_type": "markdown",
   "metadata": {},
   "source": [
    "### Web Scraping - European Countries"
   ]
  },
  {
   "cell_type": "code",
   "execution_count": 5,
   "metadata": {
    "collapsed": true,
    "jupyter": {
     "outputs_hidden": true
    }
   },
   "outputs": [
    {
     "data": {
      "text/plain": [
       "<table border=\"1\" cellpadding=\"2\" cellspacing=\"0\" style=\"vertical-align:top;background-color:#f5faff\" width=\"80%\">\n",
       "<tr>\n",
       "<td>Belgium\n",
       "</td>\n",
       "<td>(BE)\n",
       "</td>\n",
       "<td>Greece\n",
       "</td>\n",
       "<td>(EL)\n",
       "</td>\n",
       "<td>Lithuania\n",
       "</td>\n",
       "<td>(LT)\n",
       "</td>\n",
       "<td>Portugal\n",
       "</td>\n",
       "<td>(PT)\n",
       "</td></tr>\n",
       "<tr>\n",
       "<td>Bulgaria\n",
       "</td>\n",
       "<td>(BG)\n",
       "</td>\n",
       "<td>Spain\n",
       "</td>\n",
       "<td>(ES)\n",
       "</td>\n",
       "<td>Luxembourg\n",
       "</td>\n",
       "<td>(LU)\n",
       "</td>\n",
       "<td>Romania\n",
       "</td>\n",
       "<td>(RO)\n",
       "</td></tr>\n",
       "<tr>\n",
       "<td>Czechia\n",
       "</td>\n",
       "<td>(CZ)\n",
       "</td>\n",
       "<td>France\n",
       "</td>\n",
       "<td>(FR)\n",
       "</td>\n",
       "<td>Hungary\n",
       "</td>\n",
       "<td>(HU)\n",
       "</td>\n",
       "<td>Slovenia\n",
       "</td>\n",
       "<td>(SI)\n",
       "</td></tr>\n",
       "<tr>\n",
       "<td>Denmark\n",
       "</td>\n",
       "<td>(DK)\n",
       "</td>\n",
       "<td>Croatia\n",
       "</td>\n",
       "<td>(HR)\n",
       "</td>\n",
       "<td>Malta\n",
       "</td>\n",
       "<td>(MT)\n",
       "</td>\n",
       "<td>Slovakia\n",
       "</td>\n",
       "<td>(SK)\n",
       "</td></tr>\n",
       "<tr>\n",
       "<td>Germany\n",
       "</td>\n",
       "<td>(DE)\n",
       "</td>\n",
       "<td>Italy\n",
       "</td>\n",
       "<td>(IT)\n",
       "</td>\n",
       "<td>Netherlands\n",
       "</td>\n",
       "<td>(NL)\n",
       "</td>\n",
       "<td>Finland\n",
       "</td>\n",
       "<td>(FI)\n",
       "</td></tr>\n",
       "<tr>\n",
       "<td>Estonia\n",
       "</td>\n",
       "<td>(EE)\n",
       "</td>\n",
       "<td>Cyprus\n",
       "</td>\n",
       "<td>(CY)\n",
       "</td>\n",
       "<td>Austria\n",
       "</td>\n",
       "<td>(AT)\n",
       "</td>\n",
       "<td>Sweden\n",
       "</td>\n",
       "<td>(SE)\n",
       "</td></tr>\n",
       "<tr>\n",
       "<td>Ireland\n",
       "</td>\n",
       "<td>(IE)\n",
       "</td>\n",
       "<td>Latvia\n",
       "</td>\n",
       "<td>(LV)\n",
       "</td>\n",
       "<td>Poland\n",
       "</td>\n",
       "<td>(PL)\n",
       "</td></tr></table>"
      ]
     },
     "execution_count": 5,
     "metadata": {},
     "output_type": "execute_result"
    }
   ],
   "source": [
    "import requests\n",
    "from bs4 import BeautifulSoup\n",
    "import lxml.html as lh\n",
    "import pandas as pd\n",
    "\n",
    "url = 'https://ec.europa.eu/eurostat/statistics-explained/index.php/Glossary:Country_codes'\n",
    "html = requests.get(url).content\n",
    "\n",
    "\n",
    "soup = BeautifulSoup(html, 'lxml')\n",
    "#print(soup.prettify())\n",
    "table = soup.find('table')\n",
    "table"
   ]
  },
  {
   "cell_type": "code",
   "execution_count": 27,
   "metadata": {},
   "outputs": [
    {
     "name": "stdout",
     "output_type": "stream",
     "text": [
      "['Belgium', 'BE', 'Greece', 'EL', 'Lithuania', 'LT', 'Portugal', 'PT', 'Bulgaria', 'BG', 'Spain', 'ES', 'Luxembourg', 'LU', 'Romania', 'RO', 'Czechia', 'CZ', 'France', 'FR', 'Hungary', 'HU', 'Slovenia', 'SI', 'Denmark', 'DK', 'Croatia', 'HR', 'Malta', 'MT', 'Slovakia', 'SK', 'Germany', 'DE', 'Italy', 'IT', 'Netherlands', 'NL', 'Finland', 'FI', 'Estonia', 'EE', 'Cyprus', 'CY', 'Austria', 'AT', 'Sweden', 'SE', 'Ireland', 'IE', 'Latvia', 'LV', 'Poland', 'PL']\n"
     ]
    }
   ],
   "source": [
    "import re \n",
    "c = []\n",
    "rows = table.find_all('tr')\n",
    "for tr in rows:\n",
    "    cols = tr.find_all('td')\n",
    "    for td in cols:\n",
    "        c.append(td.text)\n",
    "        \n",
    "x = []\n",
    "for i in c:\n",
    "    f = i.replace('\\n', '').replace('(','').replace(')','')\n",
    "    x.append(f)\n",
    "print(x)"
   ]
  },
  {
   "cell_type": "code",
   "execution_count": 37,
   "metadata": {},
   "outputs": [
    {
     "ename": "ValueError",
     "evalue": "not enough values to unpack (expected 2, got 1)",
     "output_type": "error",
     "traceback": [
      "\u001b[0;31m---------------------------------------------------------------------------\u001b[0m",
      "\u001b[0;31mValueError\u001b[0m                                Traceback (most recent call last)",
      "\u001b[0;32m<ipython-input-37-5da786b5bf79>\u001b[0m in \u001b[0;36m<module>\u001b[0;34m\u001b[0m\n\u001b[0;32m----> 1\u001b[0;31m \u001b[0mcountries\u001b[0m \u001b[0;34m=\u001b[0m \u001b[0;34m{\u001b[0m\u001b[0mkey\u001b[0m\u001b[0;34m:\u001b[0m \u001b[0mvalue\u001b[0m \u001b[0;32mfor\u001b[0m \u001b[0mvalue\u001b[0m\u001b[0;34m,\u001b[0m \u001b[0mkey\u001b[0m \u001b[0;32min\u001b[0m \u001b[0mzip\u001b[0m\u001b[0;34m(\u001b[0m\u001b[0mx\u001b[0m\u001b[0;34m)\u001b[0m\u001b[0;34m}\u001b[0m\u001b[0;34m\u001b[0m\u001b[0;34m\u001b[0m\u001b[0m\n\u001b[0m\u001b[1;32m      2\u001b[0m \u001b[0mcountries\u001b[0m\u001b[0;34m\u001b[0m\u001b[0;34m\u001b[0m\u001b[0m\n",
      "\u001b[0;32m<ipython-input-37-5da786b5bf79>\u001b[0m in \u001b[0;36m<dictcomp>\u001b[0;34m(.0)\u001b[0m\n\u001b[0;32m----> 1\u001b[0;31m \u001b[0mcountries\u001b[0m \u001b[0;34m=\u001b[0m \u001b[0;34m{\u001b[0m\u001b[0mkey\u001b[0m\u001b[0;34m:\u001b[0m \u001b[0mvalue\u001b[0m \u001b[0;32mfor\u001b[0m \u001b[0mvalue\u001b[0m\u001b[0;34m,\u001b[0m \u001b[0mkey\u001b[0m \u001b[0;32min\u001b[0m \u001b[0mzip\u001b[0m\u001b[0;34m(\u001b[0m\u001b[0mx\u001b[0m\u001b[0;34m)\u001b[0m\u001b[0;34m}\u001b[0m\u001b[0;34m\u001b[0m\u001b[0;34m\u001b[0m\u001b[0m\n\u001b[0m\u001b[1;32m      2\u001b[0m \u001b[0mcountries\u001b[0m\u001b[0;34m\u001b[0m\u001b[0;34m\u001b[0m\u001b[0m\n",
      "\u001b[0;31mValueError\u001b[0m: not enough values to unpack (expected 2, got 1)"
     ]
    }
   ],
   "source": [
    "countries = {key: value for value, key in zip(x)}\n",
    "countries"
   ]
  },
  {
   "cell_type": "code",
   "execution_count": 38,
   "metadata": {},
   "outputs": [
    {
     "ename": "SyntaxError",
     "evalue": "invalid syntax (<ipython-input-38-55f29ebcfcfd>, line 3)",
     "output_type": "error",
     "traceback": [
      "\u001b[0;36m  File \u001b[0;32m\"<ipython-input-38-55f29ebcfcfd>\"\u001b[0;36m, line \u001b[0;32m3\u001b[0m\n\u001b[0;31m    k =\u001b[0m\n\u001b[0m        ^\u001b[0m\n\u001b[0;31mSyntaxError\u001b[0m\u001b[0;31m:\u001b[0m invalid syntax\n"
     ]
    }
   ],
   "source": [
    "e = []\n",
    "for i in x:\n",
    "    k = \n",
    "    "
   ]
  },
  {
   "cell_type": "code",
   "execution_count": null,
   "metadata": {},
   "outputs": [],
   "source": []
  }
 ],
 "metadata": {
  "kernelspec": {
   "display_name": "Python [conda env:ih_project]",
   "language": "python",
   "name": "conda-env-ih_project-py"
  },
  "language_info": {
   "codemirror_mode": {
    "name": "ipython",
    "version": 3
   },
   "file_extension": ".py",
   "mimetype": "text/x-python",
   "name": "python",
   "nbconvert_exporter": "python",
   "pygments_lexer": "ipython3",
   "version": "3.7.7"
  }
 },
 "nbformat": 4,
 "nbformat_minor": 4
}
