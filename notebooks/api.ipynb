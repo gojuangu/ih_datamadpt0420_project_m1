{
 "cells": [
  {
   "cell_type": "markdown",
   "metadata": {},
   "source": [
    "### API"
   ]
  },
  {
   "cell_type": "code",
   "execution_count": 31,
   "metadata": {},
   "outputs": [],
   "source": [
    "import requests\n",
    "import pandas as pd\n",
    "\n",
    "def get_job(job_id):\n",
    "    response = requests.get(f'http://api.dataatwork.org/v1/jobs/{job_id}')\n",
    "    json_data = response.json()\n",
    "    return json_data"
   ]
  },
  {
   "cell_type": "code",
   "execution_count": 32,
   "metadata": {},
   "outputs": [],
   "source": [
    "def jobs_all(jobs_id):\n",
    "    jobs_name = []\n",
    "    for job in jobs_id:\n",
    "        job_name = get_job(job)\n",
    "        jobs_name.append(job_name)\n",
    "    jobs_df = pd.DataFrame(jobs_name)\n",
    "    jobs_df.to_csv(f'/home/juan/IronHack/ih_datamadpt0420_project_m1/data/raw/jobs.csv')\n",
    "    return jobs_df"
   ]
  },
  {
   "cell_type": "code",
   "execution_count": 33,
   "metadata": {},
   "outputs": [],
   "source": [
    "jobs_id = ['861a9b9151e11362eb3c77ca914172d0',\n",
    " '049a3f3a2b5f85cb2971ba77ad66e10c']"
   ]
  },
  {
   "cell_type": "code",
   "execution_count": 34,
   "metadata": {},
   "outputs": [
    {
     "data": {
      "text/html": [
       "<div>\n",
       "<style scoped>\n",
       "    .dataframe tbody tr th:only-of-type {\n",
       "        vertical-align: middle;\n",
       "    }\n",
       "\n",
       "    .dataframe tbody tr th {\n",
       "        vertical-align: top;\n",
       "    }\n",
       "\n",
       "    .dataframe thead th {\n",
       "        text-align: right;\n",
       "    }\n",
       "</style>\n",
       "<table border=\"1\" class=\"dataframe\">\n",
       "  <thead>\n",
       "    <tr style=\"text-align: right;\">\n",
       "      <th></th>\n",
       "      <th>uuid</th>\n",
       "      <th>title</th>\n",
       "      <th>normalized_job_title</th>\n",
       "      <th>parent_uuid</th>\n",
       "    </tr>\n",
       "  </thead>\n",
       "  <tbody>\n",
       "    <tr>\n",
       "      <th>0</th>\n",
       "      <td>861a9b9151e11362eb3c77ca914172d0</td>\n",
       "      <td>Automatic Data Processing Planner</td>\n",
       "      <td>automatic data processing planner</td>\n",
       "      <td>0148f61d4227497728ce33490843d056</td>\n",
       "    </tr>\n",
       "    <tr>\n",
       "      <th>1</th>\n",
       "      <td>049a3f3a2b5f85cb2971ba77ad66e10c</td>\n",
       "      <td>Data Coordinator</td>\n",
       "      <td>data coordinator</td>\n",
       "      <td>0b9dd32a367f4562ec77b993053d1910</td>\n",
       "    </tr>\n",
       "  </tbody>\n",
       "</table>\n",
       "</div>"
      ],
      "text/plain": [
       "                               uuid                              title  \\\n",
       "0  861a9b9151e11362eb3c77ca914172d0  Automatic Data Processing Planner   \n",
       "1  049a3f3a2b5f85cb2971ba77ad66e10c                   Data Coordinator   \n",
       "\n",
       "                normalized_job_title                       parent_uuid  \n",
       "0  automatic data processing planner  0148f61d4227497728ce33490843d056  \n",
       "1                   data coordinator  0b9dd32a367f4562ec77b993053d1910  "
      ]
     },
     "execution_count": 34,
     "metadata": {},
     "output_type": "execute_result"
    }
   ],
   "source": [
    "jobs_all(jobs_id)"
   ]
  },
  {
   "cell_type": "code",
   "execution_count": null,
   "metadata": {},
   "outputs": [],
   "source": []
  }
 ],
 "metadata": {
  "kernelspec": {
   "display_name": "Python [conda env:ih_project]",
   "language": "python",
   "name": "conda-env-ih_project-py"
  },
  "language_info": {
   "codemirror_mode": {
    "name": "ipython",
    "version": 3
   },
   "file_extension": ".py",
   "mimetype": "text/x-python",
   "name": "python",
   "nbconvert_exporter": "python",
   "pygments_lexer": "ipython3",
   "version": "3.7.7"
  }
 },
 "nbformat": 4,
 "nbformat_minor": 4
}
